{
  "nbformat": 4,
  "nbformat_minor": 0,
  "metadata": {
    "colab": {
      "provenance": []
    },
    "kernelspec": {
      "name": "python3",
      "display_name": "Python 3"
    },
    "language_info": {
      "name": "python"
    }
  },
  "cells": [
    {
      "cell_type": "markdown",
      "source": [
        "#Python Basic\n"
      ],
      "metadata": {
        "id": "wVYKbn81gcV3"
      }
    },
    {
      "cell_type": "markdown",
      "source": [
        "1. What is Python, and why is it popular ?\n",
        "  - Python is an interpreted programming language that is easy to understand and write, invented by Guido van Rossum(1991).\n",
        "  - Python has a large and active comunity of developers, an extensive standard library, and third-party packages for various domains. Thats' why python is a popular language\n",
        "\n"
      ],
      "metadata": {
        "id": "bXvDneDVmhJm"
      }
    },
    {
      "cell_type": "markdown",
      "source": [
        "2. What is an interpreter in Python ?\n",
        "  - An inerpreter is a program which convert high-level code in-to machine code and and exicute python code line by line."
      ],
      "metadata": {
        "id": "v69oYu5z5f7B"
      }
    },
    {
      "cell_type": "markdown",
      "source": [
        "3. What are pre-defined keywords in Python ?\n",
        "   - Keywords are reserved words in Python that have special meanings and cannot be used as identifiers (variable names, function names, etc.). if, else, while, for, def, class, import, try, except, return, True, False, None, etc are some examples of pre-define keywords.\n"
      ],
      "metadata": {
        "id": "LjqSZ7eK7-sQ"
      }
    },
    {
      "cell_type": "markdown",
      "source": [
        "4. Can keywords be used as variable names ?\n",
        "  - No."
      ],
      "metadata": {
        "id": "YUAZwYBr9EYJ"
      }
    },
    {
      "cell_type": "markdown",
      "source": [
        "5. What is mutability in Python ?\n",
        "  - In python some objects are changable after creating, which affects how objects are stored and manipulated in memory, impacting performance, memory usage, and concurrency in Python programs, is called mutability.\n",
        "  List and Dictionaries are mutable objects."
      ],
      "metadata": {
        "id": "gbW00USg73BZ"
      }
    },
    {
      "cell_type": "markdown",
      "source": [
        "6. Why are lists mutable, but tuples are immutable ?\n",
        "  -"
      ],
      "metadata": {
        "id": "PwkxfnTIbEAO"
      }
    },
    {
      "cell_type": "markdown",
      "source": [
        "7. What is the difference between “==” and “is” operators in Python ?\n",
        "  - '==' is a comperison operator(it use to chake two variable caries the same value) and 'is' is a identity operator(it not only chake the same value of variable but also point to the same object in memory)."
      ],
      "metadata": {
        "id": "gmBDvsK7etuY"
      }
    },
    {
      "cell_type": "markdown",
      "source": [
        "8. What are logical operators in Python ?\n",
        "  - Logical operators are -- AND, OR, NOT(not)."
      ],
      "metadata": {
        "id": "EbZGm8adjU6E"
      }
    },
    {
      "cell_type": "markdown",
      "source": [
        "9. What is type casting in Python ?\n",
        "  - Type casting, also referred to as type conversion, is the process of changing one data type to another in Python.Python have built-in-function for type casting, such as int(), float(), str(), list(), tuple(), dict(), etc."
      ],
      "metadata": {
        "id": "tbWE50A-jzYC"
      }
    },
    {
      "cell_type": "markdown",
      "source": [
        "10. What is the difference between implicit and explicit type casting ?\n",
        "  - when compiler don't use any external code for type casting, its done autometicaly and in explicit type casting programmer tells the compiler to convert the data type using a syntax."
      ],
      "metadata": {
        "id": "plTb5gpmkvx1"
      }
    },
    {
      "cell_type": "markdown",
      "source": [
        "11. What is the purpose of conditional statements in Python ?\n",
        "  - Conditional statements help to code decicions based on some preconditions and control the flow of execution."
      ],
      "metadata": {
        "id": "1FNOx2WC77tJ"
      }
    },
    {
      "cell_type": "markdown",
      "source": [
        "12. How does the elif statement work ?\n",
        "  - 'elif' statement use in conditional statements to chake multiple conditions in program. if the first 'if' statement condition is false, the interpreter move on next 'elif' statement to chake the condition is true or false. If true, the flow control is break, either move to the next 'elif' or 'else' statement."
      ],
      "metadata": {
        "id": "YEftDGbz-uZB"
      }
    },
    {
      "cell_type": "markdown",
      "source": [
        "13. What is the difference between for and while loops ?\n",
        "  - for Loop exacly itrate over a sequence of elements like strings , list etc.\n",
        "  And the while loop repeatedly exicute a block of code untill the condition is met."
      ],
      "metadata": {
        "id": "f1iTI31PBrW0"
      }
    },
    {
      "cell_type": "markdown",
      "source": [
        "14. Describe a scenario where a while loop is more suitable than a for loop.\n",
        "  -"
      ],
      "metadata": {
        "id": "-4P9XlF3D1Bp"
      }
    },
    {
      "cell_type": "markdown",
      "source": [
        "# Practical Questions"
      ],
      "metadata": {
        "id": "XdxrgHNnGGqV"
      }
    },
    {
      "cell_type": "markdown",
      "source": [
        "1. Write a Python program to print \"Hello, World!\"."
      ],
      "metadata": {
        "id": "LzT4QuH_GPDl"
      }
    },
    {
      "cell_type": "code",
      "source": [
        "print(\"Hello,World!\")"
      ],
      "metadata": {
        "colab": {
          "base_uri": "https://localhost:8080/"
        },
        "id": "wdu8UOWVGdBh",
        "outputId": "f3a5ab72-077d-4424-96e6-861bdd15387e"
      },
      "execution_count": null,
      "outputs": [
        {
          "output_type": "stream",
          "name": "stdout",
          "text": [
            "Hello,World!\n"
          ]
        }
      ]
    },
    {
      "cell_type": "markdown",
      "source": [
        "2. Write a Python program that displays your name and age."
      ],
      "metadata": {
        "id": "jRrd9e2rGsPI"
      }
    },
    {
      "cell_type": "code",
      "execution_count": null,
      "metadata": {
        "id": "UqzoZQ4ff19s",
        "colab": {
          "base_uri": "https://localhost:8080/"
        },
        "outputId": "13773ba8-9f00-4953-b152-f68835ab1c72"
      },
      "outputs": [
        {
          "output_type": "stream",
          "name": "stdout",
          "text": [
            "Soumalya Karmakar and 23\n"
          ]
        }
      ],
      "source": [
        "name=\"Soumalya Karmakar\"\n",
        "age= 23\n",
        "print(name,\"and\",age)"
      ]
    },
    {
      "cell_type": "markdown",
      "source": [
        "3.  Write code to print all the pre-defined keywords in Python using the keyword library."
      ],
      "metadata": {
        "id": "SvxVXx_-H1Bx"
      }
    },
    {
      "cell_type": "code",
      "source": [
        "help('keywords')"
      ],
      "metadata": {
        "colab": {
          "base_uri": "https://localhost:8080/"
        },
        "id": "Xp3Z6BCLHy_h",
        "outputId": "8285bc2c-e87f-4527-ed86-4cc13f25c266"
      },
      "execution_count": null,
      "outputs": [
        {
          "output_type": "stream",
          "name": "stdout",
          "text": [
            "\n",
            "Here is a list of the Python keywords.  Enter any keyword to get more help.\n",
            "\n",
            "False               class               from                or\n",
            "None                continue            global              pass\n",
            "True                def                 if                  raise\n",
            "and                 del                 import              return\n",
            "as                  elif                in                  try\n",
            "assert              else                is                  while\n",
            "async               except              lambda              with\n",
            "await               finally             nonlocal            yield\n",
            "break               for                 not                 \n",
            "\n"
          ]
        }
      ]
    },
    {
      "cell_type": "markdown",
      "source": [
        "4. Write a program that checks if a given word is a Python keyword."
      ],
      "metadata": {
        "id": "1r64K9fyIuHE"
      }
    },
    {
      "cell_type": "code",
      "source": [
        "k_words=help('keywords')\n",
        "#print(k_words)"
      ],
      "metadata": {
        "colab": {
          "base_uri": "https://localhost:8080/"
        },
        "id": "NZK7p3NgIi9t",
        "outputId": "d08b5026-c0ed-4ee3-8e2e-788eb81f186e"
      },
      "execution_count": null,
      "outputs": [
        {
          "output_type": "stream",
          "name": "stdout",
          "text": [
            "\n",
            "Here is a list of the Python keywords.  Enter any keyword to get more help.\n",
            "\n",
            "False               class               from                or\n",
            "None                continue            global              pass\n",
            "True                def                 if                  raise\n",
            "and                 del                 import              return\n",
            "as                  elif                in                  try\n",
            "assert              else                is                  while\n",
            "async               except              lambda              with\n",
            "await               finally             nonlocal            yield\n",
            "break               for                 not                 \n",
            "\n"
          ]
        }
      ]
    },
    {
      "cell_type": "code",
      "source": [
        "keywords = help('keywords')\n",
        "'''a=input(\"Enter a word: \")\n",
        "if a in keywords:\n",
        "  print('Word is a python keyword')\n",
        "else:\n",
        "  print('Word is not a python keyword')'''\n",
        "\n",
        "type(keywords)"
      ],
      "metadata": {
        "colab": {
          "base_uri": "https://localhost:8080/"
        },
        "id": "SiTYCWyUJNuv",
        "outputId": "14b206a4-b503-487b-8f98-d6923f5964c5"
      },
      "execution_count": 66,
      "outputs": [
        {
          "output_type": "stream",
          "name": "stdout",
          "text": [
            "\n",
            "Here is a list of the Python keywords.  Enter any keyword to get more help.\n",
            "\n",
            "False               class               from                or\n",
            "None                continue            global              pass\n",
            "True                def                 if                  raise\n",
            "and                 del                 import              return\n",
            "as                  elif                in                  try\n",
            "assert              else                is                  while\n",
            "async               except              lambda              with\n",
            "await               finally             nonlocal            yield\n",
            "break               for                 not                 \n",
            "\n"
          ]
        },
        {
          "output_type": "execute_result",
          "data": {
            "text/plain": [
              "NoneType"
            ]
          },
          "metadata": {},
          "execution_count": 66
        }
      ]
    },
    {
      "cell_type": "markdown",
      "source": [
        "5. Create a list and tuple in Python, and demonstrate how attempting to change an element works differently for each."
      ],
      "metadata": {
        "id": "46ZySINBKsOb"
      }
    },
    {
      "cell_type": "code",
      "source": [
        "x=[1,2,3.4,3+4j,\"Soumalya\"]\n",
        "y=(1,2,3.4,3+4j,\"Soumalya\")\n",
        "print(type(x),type(y))\n",
        "print(x[2])\n",
        "print(y[2])\n",
        "#attempting to change element in 2th index for both\n",
        "x[2]=3\n",
        "print(x)\n",
        "y[2]=3\n",
        "print(y)"
      ],
      "metadata": {
        "colab": {
          "base_uri": "https://localhost:8080/",
          "height": 263
        },
        "id": "SYQUKNR9KepL",
        "outputId": "6a9ebe5a-0955-4d5d-e71b-5ca0282b1b01"
      },
      "execution_count": null,
      "outputs": [
        {
          "output_type": "stream",
          "name": "stdout",
          "text": [
            "<class 'list'> <class 'tuple'>\n",
            "3.4\n",
            "3.4\n",
            "[1, 2, 3, (3+4j), 'Soumalya']\n"
          ]
        },
        {
          "output_type": "error",
          "ename": "TypeError",
          "evalue": "'tuple' object does not support item assignment",
          "traceback": [
            "\u001b[0;31m---------------------------------------------------------------------------\u001b[0m",
            "\u001b[0;31mTypeError\u001b[0m                                 Traceback (most recent call last)",
            "\u001b[0;32m<ipython-input-17-04c568e45558>\u001b[0m in \u001b[0;36m<cell line: 0>\u001b[0;34m()\u001b[0m\n\u001b[1;32m      7\u001b[0m \u001b[0mx\u001b[0m\u001b[0;34m[\u001b[0m\u001b[0;36m2\u001b[0m\u001b[0;34m]\u001b[0m\u001b[0;34m=\u001b[0m\u001b[0;36m3\u001b[0m\u001b[0;34m\u001b[0m\u001b[0;34m\u001b[0m\u001b[0m\n\u001b[1;32m      8\u001b[0m \u001b[0mprint\u001b[0m\u001b[0;34m(\u001b[0m\u001b[0mx\u001b[0m\u001b[0;34m)\u001b[0m\u001b[0;34m\u001b[0m\u001b[0;34m\u001b[0m\u001b[0m\n\u001b[0;32m----> 9\u001b[0;31m \u001b[0my\u001b[0m\u001b[0;34m[\u001b[0m\u001b[0;36m2\u001b[0m\u001b[0;34m]\u001b[0m\u001b[0;34m=\u001b[0m\u001b[0;36m3\u001b[0m\u001b[0;34m\u001b[0m\u001b[0;34m\u001b[0m\u001b[0m\n\u001b[0m\u001b[1;32m     10\u001b[0m \u001b[0mprint\u001b[0m\u001b[0;34m(\u001b[0m\u001b[0my\u001b[0m\u001b[0;34m)\u001b[0m\u001b[0;34m\u001b[0m\u001b[0;34m\u001b[0m\u001b[0m\n",
            "\u001b[0;31mTypeError\u001b[0m: 'tuple' object does not support item assignment"
          ]
        }
      ]
    },
    {
      "cell_type": "markdown",
      "source": [
        "6. Write a function to demonstrate the behavior of mutable and immutable arguments."
      ],
      "metadata": {
        "id": "nUG0WzbCS22T"
      }
    },
    {
      "cell_type": "code",
      "source": [
        "#Write a function to demonstrate the behavior of mutable and immutable arguments.\n"
      ],
      "metadata": {
        "id": "YsQfEHTZRt5d"
      },
      "execution_count": null,
      "outputs": []
    },
    {
      "cell_type": "markdown",
      "source": [
        "7. Write a program that performs basic arithmetic operations on two user-input numbers."
      ],
      "metadata": {
        "id": "2wBxxfHoTnCR"
      }
    },
    {
      "cell_type": "code",
      "source": [
        "a=int(input('enter a number: '))\n",
        "b=int(input('enter a number: '))\n",
        "c= a+b\n",
        "d= a-b\n",
        "e= a*b\n",
        "f= a/b\n",
        "print('c=',c)\n",
        "print('d=',d)\n",
        "print('e=',e)\n",
        "print('f=',f)"
      ],
      "metadata": {
        "colab": {
          "base_uri": "https://localhost:8080/"
        },
        "id": "zVv9eb8RT-f-",
        "outputId": "5d97698c-fbba-42f0-bc87-dfbf37a7bcd9"
      },
      "execution_count": 3,
      "outputs": [
        {
          "output_type": "stream",
          "name": "stdout",
          "text": [
            "enter a number: 10\n",
            "enter a number: 2\n",
            "c= 12\n",
            "d= 8\n",
            "e= 20\n",
            "f= 5.0\n"
          ]
        }
      ]
    },
    {
      "cell_type": "markdown",
      "source": [
        "8. Write a program to demonstrate the use of logical operators."
      ],
      "metadata": {
        "id": "NGliqYw6Mc1m"
      }
    },
    {
      "cell_type": "code",
      "source": [
        "a=int(input('enter a number for a: '))\n",
        "b=int(input('enter a number for b: '))\n",
        "count=0\n",
        "if a==10 and b==20:# when both conditions are true its runn\n",
        "  count +=1\n",
        "  print(count)\n",
        "elif a==20 or b==20:# when both condition is false its not run\n",
        "  print('it is exicute when the first case is false')\n",
        "else:# it's run when both past casses are false\n",
        "  print('both are false')"
      ],
      "metadata": {
        "id": "H9wc_wCCVW-Z",
        "colab": {
          "base_uri": "https://localhost:8080/"
        },
        "outputId": "30c583d4-6fb5-4ebe-db0a-3ce95a80f3b5"
      },
      "execution_count": 9,
      "outputs": [
        {
          "output_type": "stream",
          "name": "stdout",
          "text": [
            "enter a number for a: 20\n",
            "enter a number for b: 10\n",
            "it is exicute when the first case is false\n"
          ]
        }
      ]
    },
    {
      "cell_type": "markdown",
      "source": [
        "9. Write a Python program to convert user input from string to integer, float, and boolean types."
      ],
      "metadata": {
        "id": "kNaIZ6mYTqsO"
      }
    },
    {
      "cell_type": "code",
      "source": [
        "a=input(\"num: \")\n",
        "float_value=float(a)# I dont understand why it is not working here\n",
        "print(float_value)\n",
        "'''int_value=int(a)\n",
        "print(int_value)\n",
        "bool_value=bool(a)\n",
        "print(bool_value)'''"
      ],
      "metadata": {
        "colab": {
          "base_uri": "https://localhost:8080/",
          "height": 228
        },
        "id": "nj-DIHBfPzAj",
        "outputId": "00bb587e-c9d1-43fd-af7c-8abf217a8684"
      },
      "execution_count": 22,
      "outputs": [
        {
          "name": "stdout",
          "output_type": "stream",
          "text": [
            "num: 33\n"
          ]
        },
        {
          "output_type": "error",
          "ename": "TypeError",
          "evalue": "'float' object is not callable",
          "traceback": [
            "\u001b[0;31m---------------------------------------------------------------------------\u001b[0m",
            "\u001b[0;31mTypeError\u001b[0m                                 Traceback (most recent call last)",
            "\u001b[0;32m<ipython-input-22-253417d5fac6>\u001b[0m in \u001b[0;36m<cell line: 0>\u001b[0;34m()\u001b[0m\n\u001b[1;32m      1\u001b[0m \u001b[0ma\u001b[0m\u001b[0;34m=\u001b[0m\u001b[0minput\u001b[0m\u001b[0;34m(\u001b[0m\u001b[0;34m\"num: \"\u001b[0m\u001b[0;34m)\u001b[0m\u001b[0;34m\u001b[0m\u001b[0;34m\u001b[0m\u001b[0m\n\u001b[0;32m----> 2\u001b[0;31m \u001b[0mfloat_value\u001b[0m\u001b[0;34m=\u001b[0m\u001b[0mfloat\u001b[0m\u001b[0;34m(\u001b[0m\u001b[0ma\u001b[0m\u001b[0;34m)\u001b[0m\u001b[0;34m\u001b[0m\u001b[0;34m\u001b[0m\u001b[0m\n\u001b[0m\u001b[1;32m      3\u001b[0m \u001b[0mprint\u001b[0m\u001b[0;34m(\u001b[0m\u001b[0mfloat_value\u001b[0m\u001b[0;34m)\u001b[0m\u001b[0;34m\u001b[0m\u001b[0;34m\u001b[0m\u001b[0m\n\u001b[1;32m      4\u001b[0m '''int_value=int(a)\n\u001b[1;32m      5\u001b[0m \u001b[0mprint\u001b[0m\u001b[0;34m(\u001b[0m\u001b[0mint_value\u001b[0m\u001b[0;34m)\u001b[0m\u001b[0;34m\u001b[0m\u001b[0;34m\u001b[0m\u001b[0m\n",
            "\u001b[0;31mTypeError\u001b[0m: 'float' object is not callable"
          ]
        }
      ]
    },
    {
      "cell_type": "markdown",
      "source": [
        "10.  Write code to demonstrate type casting with list elements."
      ],
      "metadata": {
        "id": "g42DzfNKaUxH"
      }
    },
    {
      "cell_type": "code",
      "source": [
        "l=[34,54,5.6,55.9,3,5,0]\n",
        "for i in l:\n",
        "  print(int(i))\n",
        "else:\n",
        "  for i in l:\n",
        "    print(bool(i))"
      ],
      "metadata": {
        "colab": {
          "base_uri": "https://localhost:8080/"
        },
        "id": "LfcneTDga7WV",
        "outputId": "76b833ea-fe4d-4521-f517-ca7fea853329"
      },
      "execution_count": 26,
      "outputs": [
        {
          "output_type": "stream",
          "name": "stdout",
          "text": [
            "34\n",
            "54\n",
            "5\n",
            "55\n",
            "3\n",
            "5\n",
            "0\n",
            "True\n",
            "True\n",
            "True\n",
            "True\n",
            "True\n",
            "True\n",
            "False\n"
          ]
        }
      ]
    },
    {
      "cell_type": "markdown",
      "source": [
        "11.  Write a program that checks if a number is positive, negative, or zero."
      ],
      "metadata": {
        "id": "B_fVgD1hdyBQ"
      }
    },
    {
      "cell_type": "code",
      "source": [
        "num=input(\"enter a number\")\n",
        "if num== '0':\n",
        "  print(\"number is zero\")\n",
        "elif '-' in num:\n",
        "  print(\"number is negative\")\n",
        "elif ('+' and '' and \"0\") in num:\n",
        "  print(\"number is positive\")"
      ],
      "metadata": {
        "colab": {
          "base_uri": "https://localhost:8080/"
        },
        "id": "o-D4av3BUqpO",
        "outputId": "e46a8f1e-5667-439a-d14b-4e81259715f1"
      },
      "execution_count": 48,
      "outputs": [
        {
          "output_type": "stream",
          "name": "stdout",
          "text": [
            "enter a number-54\n",
            "number is negative\n"
          ]
        }
      ]
    },
    {
      "cell_type": "markdown",
      "source": [
        "12. Write a for loop to print numbers from 1 to 10."
      ],
      "metadata": {
        "id": "TspF_Ih5lzu-"
      }
    },
    {
      "cell_type": "code",
      "source": [
        "for i in range(1,11):\n",
        "  print(i)"
      ],
      "metadata": {
        "colab": {
          "base_uri": "https://localhost:8080/"
        },
        "id": "Tr_v4vVifQ80",
        "outputId": "d4957dbb-62ce-46e6-c78a-d7e557ffae40"
      },
      "execution_count": 50,
      "outputs": [
        {
          "output_type": "stream",
          "name": "stdout",
          "text": [
            "1\n",
            "2\n",
            "3\n",
            "4\n",
            "5\n",
            "6\n",
            "7\n",
            "8\n",
            "9\n",
            "10\n"
          ]
        }
      ]
    },
    {
      "cell_type": "markdown",
      "source": [
        "13. Write a Python program to find the sum of all even numbers between 1 and 50."
      ],
      "metadata": {
        "id": "2M5kZkizmUOq"
      }
    },
    {
      "cell_type": "code",
      "source": [
        "l=[]\n",
        "for i in range(1,51):\n",
        "  if i%2==0:\n",
        "    l.append(i)\n",
        "print(sum(l))\n",
        "print(l)"
      ],
      "metadata": {
        "colab": {
          "base_uri": "https://localhost:8080/"
        },
        "id": "eQIsmqb6mK2v",
        "outputId": "44c7ff3b-bdb9-4336-cf91-160b5e0b1589"
      },
      "execution_count": 53,
      "outputs": [
        {
          "output_type": "stream",
          "name": "stdout",
          "text": [
            "650\n",
            "[2, 4, 6, 8, 10, 12, 14, 16, 18, 20, 22, 24, 26, 28, 30, 32, 34, 36, 38, 40, 42, 44, 46, 48, 50]\n"
          ]
        }
      ]
    },
    {
      "cell_type": "markdown",
      "source": [
        "14.  Write a program to reverse a string using a while loop."
      ],
      "metadata": {
        "id": "Oftm9p25oY8V"
      }
    },
    {
      "cell_type": "code",
      "source": [
        "string=input(\"Enter enything you Want: \")\n",
        "empty_string=\"\"\n",
        "index= len(string)-1\n",
        "while index >= 0:\n",
        "  empty_string += (string[index])#Concatination is working\n",
        "  index -= 1\n",
        "print(\"reverse string =\",empty_string)"
      ],
      "metadata": {
        "colab": {
          "base_uri": "https://localhost:8080/"
        },
        "id": "XJ2YSYF_n-If",
        "outputId": "d0cdb196-23f7-4f69-9979-3bb5706e7135"
      },
      "execution_count": 58,
      "outputs": [
        {
          "output_type": "stream",
          "name": "stdout",
          "text": [
            "Enter enything you Want: babu is a good boy\n",
            "reverse string = yob doog a si ubab\n"
          ]
        }
      ]
    },
    {
      "cell_type": "markdown",
      "source": [
        "15.  Write a Python program to calculate the factorial of a number provided by the user using a while loop."
      ],
      "metadata": {
        "id": "n-gEN8Jq3frv"
      }
    },
    {
      "cell_type": "code",
      "source": [
        "num = int(input(\"enter a number: \"))\n",
        "factorial = 1\n",
        "count= num\n",
        "while count >= 1:\n",
        "  factorial *= count\n",
        "  count -= 1\n",
        "print(\"factorial =\",factorial)"
      ],
      "metadata": {
        "colab": {
          "base_uri": "https://localhost:8080/"
        },
        "id": "tM1iDJZ0642G",
        "outputId": "71f4fb05-7827-457e-8f92-6a77bf79ef61"
      },
      "execution_count": 63,
      "outputs": [
        {
          "output_type": "stream",
          "name": "stdout",
          "text": [
            "enter a number: 10\n",
            "factorial = 3628800\n"
          ]
        }
      ]
    }
  ]
}